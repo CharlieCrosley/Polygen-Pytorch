{
 "cells": [
  {
   "cell_type": "code",
   "execution_count": 5,
   "metadata": {},
   "outputs": [
    {
     "name": "stderr",
     "output_type": "stream",
     "text": [
      "31743it [00:31, 1023.65it/s]"
     ]
    },
    {
     "name": "stdout",
     "output_type": "stream",
     "text": [
      "Reached target of 5000 models with an even distribution.\n"
     ]
    },
    {
     "name": "stderr",
     "output_type": "stream",
     "text": [
      "\n"
     ]
    }
   ],
   "source": [
    "import os\n",
    "import shutil\n",
    "import torch\n",
    "from tqdm import tqdm\n",
    "\n",
    "source_dir = './processed_meshes/'\n",
    "target_dir = './val_meshes_even_dist/'\n",
    "\n",
    "class_labels = [0, 1, 2]\n",
    "class_names = ['bench', 'chair', 'table']\n",
    "max_per_class = 2000  # This ensures an even amount per class for a total of 5000\n",
    "\n",
    "# Create target directories for each class\n",
    "for label in class_names:\n",
    "    class_dir = os.path.join(target_dir, f'val_{label}')\n",
    "    os.makedirs(class_dir, exist_ok=True)\n",
    "\n",
    "class_counts = {0: 0, 1: 0, 2: 0}\n",
    "\n",
    "for subdir, dirs, files in tqdm(os.walk(source_dir)):\n",
    "    for file in files:\n",
    "        if file.endswith('.pt'):\n",
    "            file_path = os.path.join(subdir, file)\n",
    "            model = torch.load(file_path)\n",
    "            class_label = model['class_label'].item()\n",
    "            \n",
    "            if class_counts[class_label] < max_per_class:\n",
    "                #target_class_dir = os.path.join(target_dir, f'val_{class_names[class_label]}')\n",
    "                target_class_dir = os.path.join(target_dir, f\"val_{class_names[class_label]}\", f\"model_{class_counts[class_label]}\")\n",
    "                #os.makedirs(target_class_dir, exist_ok=True)\n",
    "\n",
    "                class_counts[class_label] += 1\n",
    "                \n",
    "                # Copy file to the corresponding class directory\n",
    "                shutil.copytree(subdir, target_class_dir)\n",
    "                \n",
    "                if sum(class_counts.values()) >= max_per_class * len(class_names):\n",
    "                    print(\"Reached target of 6000 models with an even distribution.\")\n",
    "                    break\n",
    "    if sum(class_counts.values()) >= max_per_class * len(class_names):\n",
    "        break\n",
    "\n",
    "if sum(class_counts.values()) < max_per_class * len(class_names):\n",
    "    print(\"Not enough models to reach the target with an even distribution.\")\n"
   ]
  }
 ],
 "metadata": {
  "kernelspec": {
   "display_name": "polygen_venv",
   "language": "python",
   "name": "python3"
  },
  "language_info": {
   "codemirror_mode": {
    "name": "ipython",
    "version": 3
   },
   "file_extension": ".py",
   "mimetype": "text/x-python",
   "name": "python",
   "nbconvert_exporter": "python",
   "pygments_lexer": "ipython3",
   "version": "3.10.12"
  }
 },
 "nbformat": 4,
 "nbformat_minor": 2
}
